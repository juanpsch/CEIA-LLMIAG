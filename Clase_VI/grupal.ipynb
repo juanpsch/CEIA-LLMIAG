{
 "cells": [
  {
   "cell_type": "code",
   "execution_count": 1,
   "metadata": {},
   "outputs": [],
   "source": [
    "import PyPDF2\n",
    "import nltk\n",
    "from nltk.corpus import stopwords\n",
    "from nltk.tokenize import word_tokenize\n",
    "from nltk.stem import WordNetLemmatizer\n",
    "import numpy as np\n",
    "# from groq_sdk import GroqModel  # Importa el SDK real de Groq"
   ]
  },
  {
   "cell_type": "code",
   "execution_count": 2,
   "metadata": {},
   "outputs": [
    {
     "name": "stderr",
     "output_type": "stream",
     "text": [
      "[nltk_data] Downloading package punkt to\n",
      "[nltk_data]     D:\\Users\\juanp_schamun\\AppData\\Roaming\\nltk_data...\n",
      "[nltk_data]   Unzipping tokenizers\\punkt.zip.\n",
      "[nltk_data] Downloading package stopwords to\n",
      "[nltk_data]     D:\\Users\\juanp_schamun\\AppData\\Roaming\\nltk_data...\n",
      "[nltk_data]   Unzipping corpora\\stopwords.zip.\n",
      "[nltk_data] Downloading package wordnet to\n",
      "[nltk_data]     D:\\Users\\juanp_schamun\\AppData\\Roaming\\nltk_data...\n"
     ]
    },
    {
     "data": {
      "text/plain": [
       "True"
      ]
     },
     "execution_count": 2,
     "metadata": {},
     "output_type": "execute_result"
    }
   ],
   "source": [
    "# Asegúrate de que el recurso correcto se esté descargando\n",
    "nltk.download('punkt')        # Correcto\n",
    "nltk.download('stopwords')\n",
    "nltk.download('wordnet')"
   ]
  },
  {
   "cell_type": "code",
   "execution_count": 3,
   "metadata": {},
   "outputs": [],
   "source": [
    "def extraer_texto_pdf(ruta_pdf):\n",
    "    try:\n",
    "        with open(ruta_pdf, 'rb') as archivo:\n",
    "            lector = PyPDF2.PdfReader(archivo)\n",
    "            texto_completo = \"\"\n",
    "            for pagina in lector.pages:\n",
    "                texto_completo += pagina.extract_text() + \"\\n\"\n",
    "        return texto_completo\n",
    "    except Exception as e:\n",
    "        print(f\"Error al leer el PDF: {e}\")\n",
    "        return \"\"\n",
    "\n",
    "def preprocesar_texto(texto):\n",
    "    try:\n",
    "        # Tokenización\n",
    "        tokens = word_tokenize(texto.lower())\n",
    "        \n",
    "        # Eliminación de stopwords\n",
    "        tokens_filtrados = [palabra for palabra in tokens if palabra.isalnum() and palabra not in stopwords.words('spanish')]\n",
    "        \n",
    "        # Lematización\n",
    "        lemmatizer = WordNetLemmatizer()\n",
    "        tokens_lemmatizados = [lemmatizer.lemmatize(palabra) for palabra in tokens_filtrados]\n",
    "        \n",
    "        texto_preprocesado = ' '.join(tokens_lemmatizados)\n",
    "        return texto_preprocesado\n",
    "    except Exception as e:\n",
    "        print(f\"Error en el preprocesamiento: {e}\")\n",
    "        return \"\"\n",
    "\n",
    "def generar_embeddings(texto):\n",
    "    try:\n",
    "        # Inicializa el modelo de Groq\n",
    "        # modelo = GroqModel('ruta/al/modelo')\n",
    "        \n",
    "        # Prepara el texto para el modelo\n",
    "        texto_preparado = texto  # Ajusta según sea necesario\n",
    "        \n",
    "        # Genera los embeddings\n",
    "        # embeddings = modelo.generate_embeddings(texto_preparado)\n",
    "        \n",
    "        # Como ejemplo, usaremos un vector aleatorio\n",
    "        embeddings = np.random.rand(768)  # Reemplaza con la salida real del modelo de Groq\n",
    "        \n",
    "        return embeddings\n",
    "    except Exception as e:\n",
    "        print(f\"Error al generar embeddings: {e}\")\n",
    "        return None\n"
   ]
  },
  {
   "cell_type": "code",
   "execution_count": 6,
   "metadata": {},
   "outputs": [
    {
     "name": "stdout",
     "output_type": "stream",
     "text": [
      "Error en el preprocesamiento: \n",
      "**********************************************************************\n",
      "  Resource \u001b[93mpunkt_tab\u001b[0m not found.\n",
      "  Please use the NLTK Downloader to obtain the resource:\n",
      "\n",
      "  \u001b[31m>>> import nltk\n",
      "  >>> nltk.download('punkt_tab')\n",
      "  \u001b[0m\n",
      "  For more information see: https://www.nltk.org/data.html\n",
      "\n",
      "  Attempted to load \u001b[93mtokenizers/punkt_tab/english/\u001b[0m\n",
      "\n",
      "  Searched in:\n",
      "    - 'D:\\\\Users\\\\juanp_schamun/nltk_data'\n",
      "    - 'd:\\\\Users\\\\juanp_schamun\\\\AppData\\\\Local\\\\anaconda3\\\\envs\\\\app_chat_doc\\\\nltk_data'\n",
      "    - 'd:\\\\Users\\\\juanp_schamun\\\\AppData\\\\Local\\\\anaconda3\\\\envs\\\\app_chat_doc\\\\share\\\\nltk_data'\n",
      "    - 'd:\\\\Users\\\\juanp_schamun\\\\AppData\\\\Local\\\\anaconda3\\\\envs\\\\app_chat_doc\\\\lib\\\\nltk_data'\n",
      "    - 'D:\\\\Users\\\\juanp_schamun\\\\AppData\\\\Roaming\\\\nltk_data'\n",
      "    - 'C:\\\\nltk_data'\n",
      "    - 'D:\\\\nltk_data'\n",
      "    - 'E:\\\\nltk_data'\n",
      "**********************************************************************\n",
      "\n"
     ]
    }
   ],
   "source": [
    "def main():\n",
    "    ruta_del_pdf = 'CV_-_Juan_Pablo_Schamun7.pdf'\n",
    "    \n",
    "    # Paso 1: Extraer texto del PDF\n",
    "    texto = extraer_texto_pdf(ruta_del_pdf)\n",
    "    if not texto:\n",
    "        return\n",
    "    \n",
    "    # Paso 2: Preprocesar el texto\n",
    "    texto_limpio = preprocesar_texto(texto)\n",
    "    if not texto_limpio:\n",
    "        return\n",
    "    \n",
    "    # Paso 3: Generar embeddings\n",
    "    embeddings = generar_embeddings(texto_limpio)\n",
    "    if embeddings is not None:\n",
    "        print(\"Embeddings generados exitosamente:\")\n",
    "        print(embeddings)\n",
    "    else:\n",
    "        print(\"No se pudieron generar los embeddings.\")\n",
    "\n",
    "if __name__ == \"__main__\":\n",
    "    main()"
   ]
  },
  {
   "cell_type": "code",
   "execution_count": null,
   "metadata": {},
   "outputs": [],
   "source": []
  }
 ],
 "metadata": {
  "kernelspec": {
   "display_name": "app_chat_doc",
   "language": "python",
   "name": "python3"
  },
  "language_info": {
   "codemirror_mode": {
    "name": "ipython",
    "version": 3
   },
   "file_extension": ".py",
   "mimetype": "text/x-python",
   "name": "python",
   "nbconvert_exporter": "python",
   "pygments_lexer": "ipython3",
   "version": "3.12.3"
  }
 },
 "nbformat": 4,
 "nbformat_minor": 2
}

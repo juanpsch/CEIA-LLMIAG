{
 "cells": [
  {
   "cell_type": "markdown",
   "metadata": {},
   "source": [
    "\n",
    "# <span style=\"color:red\">INSTANTIATION OF THE LLM MODEL AND THE EMBEDDING</span>"
   ]
  },
  {
   "cell_type": "code",
   "execution_count": 1,
   "metadata": {},
   "outputs": [],
   "source": [
    "from langchain_ollama import OllamaEmbeddings\n",
    "from langchain_ollama.chat_models import ChatOllama\n",
    "from langchain.text_splitter import RecursiveCharacterTextSplitter\n",
    "from langchain_pinecone import PineconeVectorStore\n",
    "from langchain.chains import RetrievalQA \n",
    "from langchain_openai import OpenAIEmbeddings\n",
    "\n",
    "from pinecone import Pinecone, ServerlessSpec\n",
    "\n",
    "import os\n",
    "import dotenv\n",
    "\n",
    "from langchain_groq import ChatGroq\n",
    "import getpass"
   ]
  },
  {
   "cell_type": "code",
   "execution_count": 2,
   "metadata": {},
   "outputs": [],
   "source": [
    "# chat = ChatOllama(model=\"llama3\",)\n",
    "\n",
    "chat = ChatGroq(\n",
    "    model=\"mixtral-8x7b-32768\",\n",
    "    temperature=0,\n",
    "    max_tokens=None,\n",
    "    timeout=None,\n",
    "    max_retries=2,\n",
    "    # other params...\n",
    ")\n"
   ]
  },
  {
   "cell_type": "code",
   "execution_count": 3,
   "metadata": {},
   "outputs": [
    {
     "name": "stdout",
     "output_type": "stream",
     "text": [
      "768\n"
     ]
    }
   ],
   "source": [
    "### EMBEDDINGS\n",
    "\n",
    "## Embedding Techinque of OPENAI\n",
    "embed_model = OllamaEmbeddings(model=\"nomic-embed-text\")\n",
    "\n",
    "print(len(embed_model.embed_query('hola')))"
   ]
  },
  {
   "cell_type": "code",
   "execution_count": 5,
   "metadata": {},
   "outputs": [
    {
     "data": {
      "text/plain": [
       "[Document(metadata={'source': 'CV.pdf', 'page': 0}, page_content='Página  1  \\n  \\nJUAN PABLO SCHAMUN  \\nIngeniero Industrial  \\n \\nDATOS PESONALES  Teléfono:  0291 -155714529  \\nE-mail: juanpsch@gmail.com  \\nCiudad: Bariloche  \\nEDUCACIÓN  Posgrado: Master en tecnología energética para el desarrollo \\nsostenible – Universidad Politécnica de Valencia – Valencia, \\nEspaña. (finalizado en Enero de 2012)  \\nUniversitario: Ingeniería Industrial  - Universidad Nacional del Sur . \\nFecha de graduación 19 de Octubre de 2009  \\nSecundario:  (1997 -2001) Bachiller - orientación Economía y Gestión de las \\nOrganizaciones - Colegio del Solar – Bahía Blanca  \\nIDIOMAS  Inglés:  Curso completo en la Asociación Bahiense de Cultura Inglesa – \\nNivel avanzado . Exámenes internacionales:  \\n● Preliminary English Text ( PET)  \\n● First Certificate Examination ( FCE) \\n● Certificate in Advance English ( CAE ) \\nOtorgados por la Universidad de Cambridge.  \\nAlemán:  Cursado hasta 5to nivel en el la Sociedad Escolar Alemana.  Nivel \\nintermedio . Exámen es internacionales:  \\n● Zertificat Deutsch ( ZD) del Instituto Göethe.  \\nFrancés:  Básico – Cursado hasta francés 1 en la alianza Francesa.  \\n '),\n",
       " Document(metadata={'source': 'CV.pdf', 'page': 1}, page_content='Página  2 SEMINARIOS Y CURSOS  ● Carrera Data Science – Coderhouse  (2022 ) \\n● Análisis Estadístico de Datos Instituto de Sabato (2021)  \\n● Machine Learning with Python Certification (freecodecamp.org  - 2021)  \\n● Data Analysis with Python Certification (freecodecamp.org  - 2020)  \\n● Introduction to AWS  \\n● Programación en Python Para científicos (Instituto Balseiro – 2019)  \\n● Administración Sistemas Linux ( Instituto Balseiro – 2017)  \\n● Smart Plant Instrumentation  (Hexagon – 2016)  \\n● 13er Seminario Taller Política Energética para el Desarrollo Sustentable y \\nuso del modelo  Leap ( Centro Atómico Bariloche Bariloche, Argentina, 09 al \\n20 de Junio de 2014.  \\n● Carrera de Especialización en Aplicaciones de la Tecnología Nuclear \\n(CEATEN )  - Instituto Balseiro  - (PARCIAL: materias dictadas en el Centro \\nAtómico Bariloche).  (Primer cuatrimestre de 2014)  \\n● ENOVIA V5: Administration, P&O, Data Model  (Partner Dassault Systemes \\n– 2014 / 2015)  \\n● CATIA V 5: Knowledge, Piping, Part Design, Assemby Design  (Partner \\nDassault Systemes – 2013 / 2014)  \\n● Clean Energy Congress – Buenos Aires 11 y 12 de abril de 2012  \\n● Curso de Innovación 360˚ (“Proyecto Akademia”) organizado por la \\nfundación Bankinter en la Universidad Politécnica de Valencia  (2011)  \\n● SABF (South American Business Forum) ITBA – Buenos Aires 4, 5 y 6 de \\nagosto de 2006.  \\nINFORMÁTICA  Conocimientos avanzados en : \\n\\uf0b7 Excel  \\n\\uf0b7 VBA \\n\\uf0b7 Word  \\n\\uf0b7 Access  \\n\\uf0b7 Dassault Systemes Suite:  \\no CATIA V5  \\no ENOVIA V5  \\no 3DVIAComposer  \\no ENOVIA DMU  \\no PDM administration  \\no 3D CAD Modelling  \\no 3DExperience Platform  \\n\\uf0b7 HEXAGON:  \\no Smart Plant Instrumentation  \\no ISOGEN  \\nConocimientos Intermedios en : \\n\\uf0b7 Admini straci ón Sistemas  Linux \\n\\uf0b7 Windows Server  \\n\\uf0b7 Virtualización  \\n\\uf0b7 Oracle DBA  \\n\\uf0b7 Autocad  \\n\\uf0b7 MS Proyect  \\nLenguajes:  \\n\\uf0b7 SQL: Avanzado  \\n\\uf0b7 Python : Intermedio  \\n\\uf0b7 Visual Basic: Intermedio  '),\n",
       " Document(metadata={'source': 'CV.pdf', 'page': 2}, page_content='Página  3 \\uf0b7 JAVA : Básico  \\n\\uf0b7 C++: Básico  \\n-EXPERIENCIA LABORAL  Septiembre -2013 a la fecha -  Especialista PLM para el Proyecto \\nCAREM - CNEA - Coordinado r División PLM  \\nConfiguración de herramienta de  Diseño 3D CATIA V5, ENOVIA V5,  \\n3DExperience, SPI, ISOGEN  \\nAdministración de Bases de Datos ORACLE  para sistema ENOVIA , SPI y \\notros . \\nCreación de modelos 3D, generación de Catálogos y Librerías para todo el \\nproyecto.  \\nExtracción, a nálisis y transformación de datos  de diversos sistemas y b ases \\nde datos para chequeos de consistencia, revisión y suministrar información \\na otras áreas.  \\nPropuesta y definición  de metodologías de trabajo . \\nColaboración con la definición de infraestructura de sistemas . \\nDictado de cursos para diseñadores e ingenieros  en cuanto al uso de \\nherramientas PLM  internos y externos . \\nPlanificación, preparación y ejecución de instalaci ón y/o migraci ón de \\nsoftware  y bases de datos . \\nCoordinando un equipo de 5 personas.  \\nCentro Atómico Bariloche, CNEA, Bariloche, Argentina   \\n \\nJunio -2012 / 2016-  Consultor independiente  \\nConsultoría y asesoría en materia de eficiencia energética  y diseño de \\nproyectos de energías renovables.  \\nAutónomo, Bahía Blanca, Argentina   \\n \\nNov-2008 / Jun -2009  (8 meses)   Ingeniero de Contacto,   ExxonMobil   \\nPlanificación y coordi nación de trabajos a realizarse durante la parada de \\nplanta. Esto abarcó el diseño de especificaciones de proceso y mecánicas \\nde los mismos, los cuales involucraron a las áreas de procesos, soporte a \\noperaciones, ejecución, entre otras.  \\nArea  Mantenimient o, en industria Minería / Petróleo / Gas, Argentina   \\n  \\nFeb-2008 / Oct -2008  (9 meses)   Análisis de negocio,   ExxonMobil  \\nAnálisis de información referida a costos operativos y utilización de la \\ncapacidad de las plantas con el objetivo de confeccionar el pla n estratégico \\nde largo plazo de la Refinería en Campana. Esto involucró establecer \\nestándares para los indicadores esenciales del desempeño de la empresa y \\nanalizar las desviaciones de los mismos.   Area  Gerencia/Dirección Gral, en \\nindustria Minería / Pet róleo / Gas, Argentina   '),\n",
       " Document(metadata={'source': 'CV.pdf', 'page': 3}, page_content='Página  4   \\nJun-2007 / Ene -2008  (8 meses)   Analista Supply Chain,   Dow Chemical \\nCompany  \\nTareas de soporte relacionadas con la planificación y control de la \\nproducción, requerimientos de materiales y distribución.   \\nArea  Logística, en indust ria Química, Argentina   \\n  \\nEne-2001 / Sep -2007  (6 años)   Técnico,   Instituto del Corazón S.A.   \\nResponsable de la instalación y mantenimientos de redes de computadoras. \\nSe logró instalar una red entre los distintos sectores de la empresa, lo que \\nagilizó el procesamiento de información (fichas de pacientes, historias \\nclínicas, etc).  \\nArea  Administración, en industria Salud, Argentina   \\n ')]"
      ]
     },
     "execution_count": 5,
     "metadata": {},
     "output_type": "execute_result"
    }
   ],
   "source": [
    "## READ THE DIRECTORY AND LOAD THE FILE\n",
    "from langchain.document_loaders import PyPDFDirectoryLoader\n",
    "# read documents\n",
    "def read_doc(directory):\n",
    "    file_loader=PyPDFDirectoryLoader(directory)\n",
    "    documents = file_loader.load()\n",
    "    return documents\n",
    "dir='./'\n",
    "doc=read_doc(dir)\n",
    "\n",
    "total=doc\n",
    "total\n",
    "\n"
   ]
  },
  {
   "cell_type": "code",
   "execution_count": 6,
   "metadata": {},
   "outputs": [
    {
     "data": {
      "text/plain": [
       "list"
      ]
     },
     "execution_count": 6,
     "metadata": {},
     "output_type": "execute_result"
    }
   ],
   "source": [
    "\n",
    "def chunk_data(docs, chunk_size=800, chunk_overlap=50):\n",
    "    text_splitter=RecursiveCharacterTextSplitter(chunk_size=chunk_size, chunk_overlap=chunk_overlap)\n",
    "    doc=text_splitter.split_documents(docs)\n",
    "    return doc\n",
    "\n",
    "documents=chunk_data(docs=total,chunk_size=1500, chunk_overlap=50)\n",
    "# documents_cv=chunk_data(docs=doc_cv,chunk_size=3000, chunk_overlap=50)\n",
    "\n",
    "type(documents)"
   ]
  },
  {
   "cell_type": "markdown",
   "metadata": {},
   "source": [
    "\n",
    "# <span style=\"color:red\">LOAD THE DOCUMENTS AND VECTORS TO PINESTORE DB</span>"
   ]
  },
  {
   "cell_type": "code",
   "execution_count": 91,
   "metadata": {},
   "outputs": [
    {
     "name": "stdout",
     "output_type": "stream",
     "text": [
      "index creado con el nombre: jptest\n"
     ]
    }
   ],
   "source": [
    "## CONNECT WITH PINECONE DATABASE\n",
    "from pinecone import Pinecone, ServerlessSpec\n",
    "dotenv.load_dotenv()\n",
    "PINECONE_API_KEY=os.getenv(\"PINECONE_API_KEY\")\n",
    "\n",
    "#Connect to DB Pinecone\n",
    "pc=Pinecone(api_key=PINECONE_API_KEY)\n",
    "cloud = os.environ.get('PINECONE_CLOUD') or 'aws'\n",
    "region = os.environ.get('PINECONE_REGION') or 'us-east-1'\n",
    "spec = ServerlessSpec(cloud=cloud, region=region)\n",
    "index_name = 'jptest'\n",
    "\n",
    "if index_name in pc.list_indexes().names():\n",
    "  pc.delete_index(index_name)\n",
    "  print(\"index {} borrado\".format(index_name))\n",
    "\n",
    "# check if index already exists (it shouldn't if this is first time)\n",
    "if index_name not in pc.list_indexes().names():\n",
    "    # if does not exist, create index\n",
    "    print(\"index creado con el nombre: {}\".format(index_name))\n",
    "    pc.create_index(\n",
    "        index_name,\n",
    "        dimension=768,  # dimensionality of text-embedding models/embedding-001\n",
    "        metric='cosine',\n",
    "        spec=spec\n",
    "        )\n",
    "else:\n",
    "    print(\"el index con el nombre {} ya estaba creado\".format(index_name))"
   ]
  },
  {
   "cell_type": "code",
   "execution_count": 8,
   "metadata": {},
   "outputs": [
    {
     "name": "stdout",
     "output_type": "stream",
     "text": [
      "upserted values to jptest index\n"
     ]
    }
   ],
   "source": [
    "## UPSERT THE VECTORS IN TO THE PINECONE DATABASE\n",
    "\n",
    "import time\n",
    "from langchain_pinecone import PineconeVectorStore\n",
    "namespace = \"espacio\"\n",
    "\n",
    "index_name = 'jptest'\n",
    "\n",
    "docsearch = PineconeVectorStore.from_documents(\n",
    "    documents=documents,\n",
    "    index_name=index_name,\n",
    "    embedding=embed_model, \n",
    "    namespace=namespace\n",
    ")\n",
    "print(\"upserted values to {} index\".format(index_name))\n",
    "\n",
    "time.sleep(1)\n",
    "\n"
   ]
  },
  {
   "cell_type": "markdown",
   "metadata": {},
   "source": [
    "\n",
    "# <span style=\"color:red\">RETRIEVE AND SEARCH INTO THE CREATED PINECONE DATABASES</span>"
   ]
  },
  {
   "cell_type": "code",
   "execution_count": 9,
   "metadata": {},
   "outputs": [],
   "source": [
    "\n",
    "PINECONE_API_KEY=os.getenv(\"PINECONE_API_KEY\")\n",
    "pc=Pinecone(api_key=PINECONE_API_KEY)\n",
    "index_name = 'jptest'\n",
    "namespace = \"espacio\"\n"
   ]
  },
  {
   "cell_type": "code",
   "execution_count": 10,
   "metadata": {},
   "outputs": [],
   "source": [
    "vectorstore = PineconeVectorStore(\n",
    "    index_name=index_name,\n",
    "    embedding=embed_model,\n",
    "    namespace=namespace,\n",
    ")\n",
    "\n",
    "retriever=vectorstore.as_retriever()"
   ]
  },
  {
   "cell_type": "code",
   "execution_count": 11,
   "metadata": {},
   "outputs": [
    {
     "data": {
      "text/plain": [
       "[Document(metadata={'page': 0.0, 'source': 'documents\\\\CV.pdf'}, page_content='Página  1  \\n  \\nJUAN PABLO SCHAMUN  \\nIngeniero Industrial  \\n \\nDATOS PESONALES  Teléfono:  0291 -155714529  \\nE-mail: juanpsch@gmail.com  \\nCiudad: Bariloche  \\nEDUCACIÓN  Posgrado: Master en tecnología energética para el desarrollo \\nsostenible – Universidad Politécnica de Valencia – Valencia, \\nEspaña. (finalizado en Enero de 2012)  \\nUniversitario: Ingeniería Industrial  - Universidad Nacional del Sur . \\nFecha de graduación 19 de Octubre de 2009  \\nSecundario:  (1997 -2001) Bachiller - orientación Economía y Gestión de las \\nOrganizaciones - Colegio del Solar – Bahía Blanca  \\nIDIOMAS  Inglés:  Curso completo en la Asociación Bahiense de Cultura Inglesa – \\nNivel avanzado . Exámenes internacionales:  \\n● Preliminary English Text ( PET)  \\n● First Certificate Examination ( FCE) \\n● Certificate in Advance English ( CAE ) \\nOtorgados por la Universidad de Cambridge.  \\nAlemán:  Cursado hasta 5to nivel en el la Sociedad Escolar Alemana.  Nivel \\nintermedio . Exámen es internacionales:  \\n● Zertificat Deutsch ( ZD) del Instituto Göethe.  \\nFrancés:  Básico – Cursado hasta francés 1 en la alianza Francesa.')]"
      ]
     },
     "execution_count": 11,
     "metadata": {},
     "output_type": "execute_result"
    }
   ],
   "source": [
    "query = \"Donde trabaja Juan Pablo\"\n",
    "vectorstore.similarity_search(query, k=1)"
   ]
  },
  {
   "cell_type": "code",
   "execution_count": 12,
   "metadata": {},
   "outputs": [
    {
     "name": "stdout",
     "output_type": "stream",
     "text": [
      "Based on the provided information, Juan Pablo Schamun has experience in several areas, including industrial engineering, energy technology, and project management. He has a Master's degree in technological energy for sustainable development from the Polytechnic University of Valencia in Spain. He has also worked as a industrial engineer, business analyst, and contact engineer for ExxonMobil, where he analyzed business information and coordinated plant maintenance activities.\n",
      "\n",
      "In addition, Juan Pablo has experience as a independent consultant, providing consulting and advisory services in energy efficiency and renewable energy project design. He has also worked as a specialist for the CAREM project at the National Atomic Energy Commission (CNEA) in Argentina, where he was responsible for configuring 3D design tools, managing databases, creating 3D models, and coordinating a team of five people.\n",
      "\n",
      "Juan Pablo is also proficient in several computer programs and languages, including CATIA V5, ENOVIA V5, 3DVIAComposer, ENOVIA DMU, PDM administration, 3D CAD Modelling, 3DExperience Platform, Smart Plant Instrumentation, ISOGEN, Linux administration, Windows Server, virtualization, Oracle DBA, Autocad, and MS Project. He also has advanced knowledge of SQL and intermediate knowledge of Python and Visual Basic.\n"
     ]
    }
   ],
   "source": [
    "\n",
    "query = \"Que experiencia tiene Juan Pablo\"\n",
    "\n",
    "\n",
    "qa = RetrievalQA.from_chain_type(  \n",
    "    llm=chat,  \n",
    "    chain_type=\"stuff\",  \n",
    "    retriever=vectorstore.as_retriever()  \n",
    ")  \n",
    "\n",
    "\n",
    "result = qa.invoke(query)\n",
    "\n",
    "print(result['result'])"
   ]
  },
  {
   "cell_type": "code",
   "execution_count": 13,
   "metadata": {},
   "outputs": [
    {
     "name": "stdout",
     "output_type": "stream",
     "text": [
      "{'query': 'Que experiencia tiene Juan Pablo', 'result': \"Based on the provided information, Juan Pablo Schamun has experience in several areas, including industrial engineering, energy technology, and project management. He has a Master's degree in technological energy for sustainable development from the Polytechnic University of Valencia in Spain. He has also worked as a industrial engineer, business analyst, and contact engineer for ExxonMobil, where he analyzed business information and coordinated plant maintenance activities.\\n\\nIn addition, Juan Pablo has experience as a independent consultant, providing consulting and advisory services in energy efficiency and renewable energy project design. He has also worked as a specialist for the CAREM project at the National Atomic Energy Commission (CNEA) in Argentina, where he was responsible for configuring 3D design tools, managing databases, creating 3D models, and coordinating a team of five people.\\n\\nJuan Pablo is also proficient in several computer programs and languages, including CATIA V5, ENOVIA V5, 3DVIAComposer, ENOVIA DMU, PDM administration, 3D CAD Modelling, 3DExperience Platform, Smart Plant Instrumentation, ISOGEN, Linux administration, Windows Server, virtualization, Oracle DBA, Autocad, and MS Project. He also has advanced knowledge of SQL and intermediate knowledge of Python and Visual Basic.\"}\n"
     ]
    }
   ],
   "source": [
    "print(result)"
   ]
  }
 ],
 "metadata": {
  "kernelspec": {
   "display_name": "app_chat_doc",
   "language": "python",
   "name": "python3"
  },
  "language_info": {
   "codemirror_mode": {
    "name": "ipython",
    "version": 3
   },
   "file_extension": ".py",
   "mimetype": "text/x-python",
   "name": "python",
   "nbconvert_exporter": "python",
   "pygments_lexer": "ipython3",
   "version": "3.12.3"
  }
 },
 "nbformat": 4,
 "nbformat_minor": 2
}

{
 "cells": [
  {
   "cell_type": "markdown",
   "metadata": {},
   "source": [
    "\n",
    "# <span style=\"color:red\">INSTANTIATION OF THE LLM MODEL AND THE EMBEDDING</span>"
   ]
  },
  {
   "cell_type": "code",
   "execution_count": 1,
   "metadata": {},
   "outputs": [
    {
     "name": "stderr",
     "output_type": "stream",
     "text": [
      "d:\\Users\\jpschamunTMP\\anaconda3\\envs\\llm\\lib\\site-packages\\pinecone\\data\\index.py:1: TqdmWarning: IProgress not found. Please update jupyter and ipywidgets. See https://ipywidgets.readthedocs.io/en/stable/user_install.html\n",
      "  from tqdm.autonotebook import tqdm\n"
     ]
    }
   ],
   "source": [
    "from langchain_ollama import OllamaEmbeddings\n",
    "from langchain_ollama.chat_models import ChatOllama\n",
    "from langchain.text_splitter import RecursiveCharacterTextSplitter\n",
    "from langchain_pinecone import PineconeVectorStore\n",
    "from langchain.chains import RetrievalQA \n",
    "# from langchain_openai import OpenAIEmbeddings\n",
    "\n",
    "from pinecone import Pinecone, ServerlessSpec\n",
    "\n",
    "import os\n",
    "import dotenv\n",
    "\n",
    "from langchain_groq import ChatGroq\n",
    "import getpass"
   ]
  },
  {
   "cell_type": "code",
   "execution_count": 2,
   "metadata": {},
   "outputs": [],
   "source": [
    "# chat = ChatOllama(model=\"llama3\",)\n",
    "\n",
    "chat = ChatGroq(\n",
    "    model=\"mixtral-8x7b-32768\",\n",
    "    temperature=0,\n",
    "    max_tokens=None,\n",
    "    timeout=None,\n",
    "    max_retries=2,\n",
    "    # other params...\n",
    ")\n"
   ]
  },
  {
   "cell_type": "code",
   "execution_count": 3,
   "metadata": {},
   "outputs": [
    {
     "name": "stdout",
     "output_type": "stream",
     "text": [
      "768\n"
     ]
    }
   ],
   "source": [
    "### EMBEDDINGS\n",
    "\n",
    "## Embedding Techinque of OPENAI\n",
    "embed_model = OllamaEmbeddings(model=\"nomic-embed-text\")\n",
    "\n",
    "print(len(embed_model.embed_query('hola')))"
   ]
  },
  {
   "cell_type": "code",
   "execution_count": 7,
   "metadata": {},
   "outputs": [
    {
     "data": {
      "text/plain": [
       "[Document(metadata={'source': 'CV2\\\\Cv2.pdf', 'page': 0}, page_content='Curriculum Vitae  \\n \\n Nicolás Cacheda                                \\nEstado Civil: Soltero  \\nDIR.: Pje. Petunias 60, alto jardín botánico.    \\nTeléfono : (0294)  15-4-332816  \\nE-mail:  n.cacheda@gmail.com  \\nDNI: 34721887  \\nCuil: 20 -34721887 -2 \\nNacionalidad: Argentina  \\nFecha de nacimiento: 12/12/1989  \\n \\n \\n \\nFORMACION \\nACADEMICA  \\n \\n \\n \\n \\n \\nIDIOMAS  \\n \\n  \\nINFORMATICA  \\n \\n \\n \\n \\n \\n \\n \\n \\n \\nCURSOS / OTROS  \\n \\n \\n \\n \\n \\n \\n \\n \\n \\n \\n \\n \\nEXPERIENCIA LABORAL  \\n \\n  \\n- Técnico en automatización de sistemas y sistemas de control.  \\nEscuela Co operativa Técnica Los Andes  | 2008 | Bariloche | Río Negro  \\n- Licenciatura en Psicología  de la Universidad  de Buenos Aires sin \\nfinalizar.  \\n- Ingles avanzado. Hablado y escrito  \\n \\n \\nFormación en:  \\n- Autocad                -    Programación en Python                   \\n- Solidworks            -    Herramientas Microsoft Office                          \\n- Visual Basic          -    Prótel  (diseño de circuitos  electrónicos )  \\n- CATIA V5              -    Smart Plant Instrumentation      \\n  \\n- Pasantía laboral asistida en el 2008, empre sa RACAL (carpintería metálica)  \\n- Diseño y  construcción de elementos ortopédicos para discapacitados  \\n(diseño y corte con torno CNC)   \\n- Licencia de conductor clase  A2 B1. \\n- Capacitación avanzada en SolidWorks . \\n- Cursos de CATIA y entorno ENOVIA.  \\n \\n- En el 2 010 por un período de ocho meses trabaje como proyectista en una \\nempresa dedicada al rubro textil (FRAMA, Barrio de Munro, Vicente Lopez, \\nBuenos Aires)  \\n- Durante el mes de mayo del 2011 tome un trabajo temporal para \\nINGELSUD  (automatización de la planta h idroeléctrica en Neuquén) . Me \\nocupe del cableado del tablero de control y la medición y regulación de las \\ntermocuplas en  la turbina generadora.   \\n- Ingresé en noviembre del 2011 como dibujante para ISB (ingeniería en \\nmedios de elevación)  y finalice mis serv icios en septiembre del 2013.  \\n-  Actualmente trabajando como prestador de servicios para el Proyecto \\nCAREM a través del Acuerdo Específico CNEA -UNSAM. Inicio de actividades \\n01/03/2014.  \\n ')]"
      ]
     },
     "execution_count": 7,
     "metadata": {},
     "output_type": "execute_result"
    }
   ],
   "source": [
    "## READ THE DIRECTORY AND LOAD THE FILE\n",
    "from langchain.document_loaders import PyPDFDirectoryLoader\n",
    "# read documents\n",
    "def read_doc(directory):\n",
    "    file_loader=PyPDFDirectoryLoader(directory)\n",
    "    documents = file_loader.load()\n",
    "    return documents\n",
    "dir='./CV2'\n",
    "doc=read_doc(dir)\n",
    "\n",
    "total=doc\n",
    "total\n",
    "\n"
   ]
  },
  {
   "cell_type": "code",
   "execution_count": 8,
   "metadata": {},
   "outputs": [
    {
     "data": {
      "text/plain": [
       "list"
      ]
     },
     "execution_count": 8,
     "metadata": {},
     "output_type": "execute_result"
    }
   ],
   "source": [
    "\n",
    "def chunk_data(docs, chunk_size=800, chunk_overlap=50):\n",
    "    text_splitter=RecursiveCharacterTextSplitter(chunk_size=chunk_size, chunk_overlap=chunk_overlap)\n",
    "    doc=text_splitter.split_documents(docs)\n",
    "    return doc\n",
    "\n",
    "documents=chunk_data(docs=total,chunk_size=1500, chunk_overlap=50)\n",
    "# documents_cv=chunk_data(docs=doc_cv,chunk_size=3000, chunk_overlap=50)\n",
    "\n",
    "type(documents)"
   ]
  },
  {
   "cell_type": "markdown",
   "metadata": {},
   "source": [
    "\n",
    "# <span style=\"color:red\">LOAD THE DOCUMENTS AND VECTORS TO PINESTORE DB</span>"
   ]
  },
  {
   "cell_type": "code",
   "execution_count": 9,
   "metadata": {},
   "outputs": [
    {
     "name": "stdout",
     "output_type": "stream",
     "text": [
      "index creado con el nombre: nico\n"
     ]
    }
   ],
   "source": [
    "## CONNECT WITH PINECONE DATABASE\n",
    "from pinecone import Pinecone, ServerlessSpec\n",
    "dotenv.load_dotenv()\n",
    "PINECONE_API_KEY=os.getenv(\"PINECONE_API_KEY\")\n",
    "\n",
    "#Connect to DB Pinecone\n",
    "pc=Pinecone(api_key=PINECONE_API_KEY)\n",
    "cloud = os.environ.get('PINECONE_CLOUD') or 'aws'\n",
    "region = os.environ.get('PINECONE_REGION') or 'us-east-1'\n",
    "spec = ServerlessSpec(cloud=cloud, region=region)\n",
    "index_name = 'nico'\n",
    "\n",
    "if index_name in pc.list_indexes().names():\n",
    "  pc.delete_index(index_name)\n",
    "  print(\"index {} borrado\".format(index_name))\n",
    "\n",
    "# check if index already exists (it shouldn't if this is first time)\n",
    "if index_name not in pc.list_indexes().names():\n",
    "    # if does not exist, create index\n",
    "    print(\"index creado con el nombre: {}\".format(index_name))\n",
    "    pc.create_index(\n",
    "        index_name,\n",
    "        dimension=768,  # dimensionality of text-embedding models/embedding-001\n",
    "        metric='cosine',\n",
    "        spec=spec\n",
    "        )\n",
    "else:\n",
    "    print(\"el index con el nombre {} ya estaba creado\".format(index_name))"
   ]
  },
  {
   "cell_type": "code",
   "execution_count": 10,
   "metadata": {},
   "outputs": [
    {
     "name": "stdout",
     "output_type": "stream",
     "text": [
      "upserted values to nico index\n"
     ]
    }
   ],
   "source": [
    "## UPSERT THE VECTORS IN TO THE PINECONE DATABASE\n",
    "\n",
    "import time\n",
    "from langchain_pinecone import PineconeVectorStore\n",
    "namespace = \"espacio\"\n",
    "\n",
    "index_name = 'nico'\n",
    "\n",
    "docsearch = PineconeVectorStore.from_documents(\n",
    "    documents=documents,\n",
    "    index_name=index_name,\n",
    "    embedding=embed_model, \n",
    "    namespace=namespace\n",
    ")\n",
    "print(\"upserted values to {} index\".format(index_name))\n",
    "\n",
    "time.sleep(1)\n",
    "\n"
   ]
  },
  {
   "cell_type": "markdown",
   "metadata": {},
   "source": [
    "\n",
    "# <span style=\"color:red\">RETRIEVE AND SEARCH INTO THE CREATED PINECONE DATABASES</span>"
   ]
  },
  {
   "cell_type": "code",
   "execution_count": 11,
   "metadata": {},
   "outputs": [],
   "source": [
    "\n",
    "PINECONE_API_KEY=os.getenv(\"PINECONE_API_KEY\")\n",
    "pc=Pinecone(api_key=PINECONE_API_KEY)\n",
    "index_name = 'nico'\n",
    "namespace = \"espacio\"\n"
   ]
  },
  {
   "cell_type": "code",
   "execution_count": 12,
   "metadata": {},
   "outputs": [],
   "source": [
    "vectorstore = PineconeVectorStore(\n",
    "    index_name=index_name,\n",
    "    embedding=embed_model,\n",
    "    namespace=namespace,\n",
    ")\n",
    "\n",
    "retriever=vectorstore.as_retriever()"
   ]
  },
  {
   "cell_type": "code",
   "execution_count": 14,
   "metadata": {},
   "outputs": [
    {
     "data": {
      "text/plain": [
       "[Document(id='07c2116f-9d68-43c3-b653-f57d94d2b1b0', metadata={'page': 0.0, 'source': 'CV2\\\\Cv2.pdf'}, page_content='Curriculum Vitae  \\n \\n Nicolás Cacheda                                \\nEstado Civil: Soltero  \\nDIR.: Pje. Petunias 60, alto jardín botánico.    \\nTeléfono : (0294)  15-4-332816  \\nE-mail:  n.cacheda@gmail.com  \\nDNI: 34721887  \\nCuil: 20 -34721887 -2 \\nNacionalidad: Argentina  \\nFecha de nacimiento: 12/12/1989  \\n \\n \\n \\nFORMACION \\nACADEMICA  \\n \\n \\n \\n \\n \\nIDIOMAS  \\n \\n  \\nINFORMATICA  \\n \\n \\n \\n \\n \\n \\n \\n \\n \\nCURSOS / OTROS  \\n \\n \\n \\n \\n \\n \\n \\n \\n \\n \\n \\n \\nEXPERIENCIA LABORAL  \\n \\n  \\n- Técnico en automatización de sistemas y sistemas de control.  \\nEscuela Co operativa Técnica Los Andes  | 2008 | Bariloche | Río Negro  \\n- Licenciatura en Psicología  de la Universidad  de Buenos Aires sin \\nfinalizar.  \\n- Ingles avanzado. Hablado y escrito  \\n \\n \\nFormación en:  \\n- Autocad                -    Programación en Python                   \\n- Solidworks            -    Herramientas Microsoft Office                          \\n- Visual Basic          -    Prótel  (diseño de circuitos  electrónicos )  \\n- CATIA V5              -    Smart Plant Instrumentation      \\n  \\n- Pasantía laboral asistida en el 2008, empre sa RACAL (carpintería metálica)  \\n- Diseño y  construcción de elementos ortopédicos para discapacitados  \\n(diseño y corte con torno CNC)   \\n- Licencia de conductor clase  A2 B1. \\n- Capacitación avanzada en SolidWorks . \\n- Cursos de CATIA y entorno ENOVIA.  \\n \\n- En el 2 010 por un período de ocho meses trabaje como proyectista en una \\nempresa dedicada al rubro textil (FRAMA, Barrio de Munro, Vicente Lopez,')]"
      ]
     },
     "execution_count": 14,
     "metadata": {},
     "output_type": "execute_result"
    }
   ],
   "source": [
    "query = \"Donde trabaja Nicolas\"\n",
    "vectorstore.similarity_search(query, k=1)"
   ]
  },
  {
   "cell_type": "code",
   "execution_count": 16,
   "metadata": {},
   "outputs": [
    {
     "name": "stdout",
     "output_type": "stream",
     "text": [
      "Based on the provided CV, Nicolás Cacheda has experience in automation of systems and control, having worked as a technician in this field. He has also studied Licenciatura in Psychology and has advanced knowledge of English. He has experience with various software such as AutoCAD, Python, Solidworks, Microsoft Office tools, Visual Basic, Protel, Smart Plant Instrumentation, CATIA V5, and ENOVIA.\n",
      "\n",
      "He has completed a supervised internship in RACAL, a metal carpentry company, and has experience in designing and constructing orthopedic elements for disabled people using CNC. He has also worked as a projectist in a textile company, taken a temporary job in INGELSUD for automation of a hydroelectric plant, and worked as a dibujante in ISB (engineering in means of elevation). Currently, he is working as a service provider for the CAREM project through the CNEA-UNSAM Specific Agreement.\n"
     ]
    }
   ],
   "source": [
    "\n",
    "query = \"Que experiencia tiene Nicolas\"\n",
    "\n",
    "\n",
    "qa = RetrievalQA.from_chain_type(  \n",
    "    llm=chat,  \n",
    "    chain_type=\"stuff\",  \n",
    "    retriever=vectorstore.as_retriever()  \n",
    ")  \n",
    "\n",
    "\n",
    "result = qa.invoke(query)\n",
    "\n",
    "print(result['result'])"
   ]
  },
  {
   "cell_type": "code",
   "execution_count": 17,
   "metadata": {},
   "outputs": [
    {
     "name": "stdout",
     "output_type": "stream",
     "text": [
      "{'query': 'Que experiencia tiene Nicolas', 'result': 'Based on the provided CV, Nicolás Cacheda has experience in automation of systems and control, having worked as a technician in this field. He has also studied Licenciatura in Psychology and has advanced knowledge of English. He has experience with various software such as AutoCAD, Python, Solidworks, Microsoft Office tools, Visual Basic, Protel, Smart Plant Instrumentation, CATIA V5, and ENOVIA.\\n\\nHe has completed a supervised internship in RACAL, a metal carpentry company, and has experience in designing and constructing orthopedic elements for disabled people using CNC. He has also worked as a projectist in a textile company, taken a temporary job in INGELSUD for automation of a hydroelectric plant, and worked as a dibujante in ISB (engineering in means of elevation). Currently, he is working as a service provider for the CAREM project through the CNEA-UNSAM Specific Agreement.'}\n"
     ]
    }
   ],
   "source": [
    "print(result)"
   ]
  }
 ],
 "metadata": {
  "kernelspec": {
   "display_name": "llm",
   "language": "python",
   "name": "python3"
  },
  "language_info": {
   "codemirror_mode": {
    "name": "ipython",
    "version": 3
   },
   "file_extension": ".py",
   "mimetype": "text/x-python",
   "name": "python",
   "nbconvert_exporter": "python",
   "pygments_lexer": "ipython3",
   "version": "3.10.15"
  }
 },
 "nbformat": 4,
 "nbformat_minor": 2
}
